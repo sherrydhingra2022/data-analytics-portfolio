{
 "cells": [
  {
   "cell_type": "markdown",
   "id": "6648a1d5",
   "metadata": {},
   "source": [
    "# ✈️ Flight Delay Analysis\n",
    "\n",
    "In this project, we'll analyze flight delay patterns using a sample dataset."
   ]
  },
  {
   "cell_type": "markdown",
   "id": "b9e83889",
   "metadata": {},
   "source": [
    "## 1. Import Libraries"
   ]
  },
  {
   "cell_type": "code",
   "execution_count": null,
   "id": "c3175076",
   "metadata": {},
   "outputs": [],
   "source": [
    "import pandas as pd\n",
    "import matplotlib.pyplot as plt\n",
    "import seaborn as sns\n",
    "from datetime import datetime\n",
    "\n",
    "sns.set(style='whitegrid')"
   ]
  },
  {
   "cell_type": "markdown",
   "id": "0bb92aac",
   "metadata": {},
   "source": [
    "## 2. Load Dataset"
   ]
  },
  {
   "cell_type": "code",
   "execution_count": null,
   "id": "0a0d4b3b",
   "metadata": {},
   "outputs": [],
   "source": [
    "df = pd.read_csv('flights_sample.csv')\n",
    "df.head()"
   ]
  },
  {
   "cell_type": "markdown",
   "id": "676aaa9a",
   "metadata": {},
   "source": [
    "## 3. Data Cleaning"
   ]
  },
  {
   "cell_type": "code",
   "execution_count": null,
   "id": "49aa65e1",
   "metadata": {},
   "outputs": [],
   "source": [
    "# Convert FlightDate to datetime\n",
    "df['FlightDate'] = pd.to_datetime(df['FlightDate'])\n",
    "\n",
    "# Remove cancelled flights\n",
    "df = df[df['Cancelled'] == 0]\n",
    "df.shape"
   ]
  },
  {
   "cell_type": "markdown",
   "id": "b66f17e9",
   "metadata": {},
   "source": [
    "## 4. Exploratory Data Analysis"
   ]
  },
  {
   "cell_type": "code",
   "execution_count": null,
   "id": "c198b781",
   "metadata": {},
   "outputs": [],
   "source": [
    "# Average delay per airline\n",
    "airline_delay = df.groupby('Airline')['DepDelayMinutes'].mean().sort_values(ascending=False)\n",
    "plt.figure(figsize=(10, 5))\n",
    "airline_delay.plot(kind='bar', color='skyblue')\n",
    "plt.title('Average Departure Delay per Airline')\n",
    "plt.ylabel('Delay (minutes)')\n",
    "plt.xlabel('Airline')\n",
    "plt.xticks(rotation=45)\n",
    "plt.tight_layout()\n",
    "plt.show()"
   ]
  },
  {
   "cell_type": "code",
   "execution_count": null,
   "id": "48ece996",
   "metadata": {},
   "outputs": [],
   "source": [
    "# Delays by hour of day\n",
    "df['Hour'] = pd.to_datetime(df['ScheduledDepTime'], format='%H:%M').dt.hour\n",
    "hourly_delay = df.groupby('Hour')['DepDelayMinutes'].mean()\n",
    "plt.figure(figsize=(10, 5))\n",
    "hourly_delay.plot(kind='line', marker='o')\n",
    "plt.title('Average Departure Delay by Hour of Day')\n",
    "plt.ylabel('Delay (minutes)')\n",
    "plt.xlabel('Hour')\n",
    "plt.grid(True)\n",
    "plt.tight_layout()\n",
    "plt.show()"
   ]
  },
  {
   "cell_type": "markdown",
   "id": "e1f8bc06",
   "metadata": {},
   "source": [
    "## 5. Key Insights\n",
    "\n",
    "- Some airlines consistently have higher delays.\n",
    "- Delays tend to increase during certain hours of the day.\n",
    "- Further analysis could include destination-based trends or seasonal effects."
   ]
  },
  {
   "cell_type": "markdown",
   "id": "dcac0746",
   "metadata": {},
   "source": [
    "## 6. Conclusion\n",
    "\n",
    "This project shows how flight delays vary across different dimensions like airline and time of day. It demonstrates skills in data wrangling, visualization, and deriving insights using Python."
   ]
  }
 ],
 "metadata": {},
 "nbformat": 4,
 "nbformat_minor": 5
}